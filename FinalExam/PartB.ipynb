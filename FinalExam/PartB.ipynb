{
 "cells": [
  {
   "cell_type": "code",
   "execution_count": 1,
   "metadata": {},
   "outputs": [],
   "source": [
    "import nltk"
   ]
  },
  {
   "cell_type": "code",
   "execution_count": 2,
   "metadata": {},
   "outputs": [
    {
     "name": "stderr",
     "output_type": "stream",
     "text": [
      "[nltk_data] Downloading package punkt to\n",
      "[nltk_data]     C:\\Users\\kevin\\AppData\\Roaming\\nltk_data...\n",
      "[nltk_data]   Package punkt is already up-to-date!\n",
      "[nltk_data] Downloading package averaged_perceptron_tagger to\n",
      "[nltk_data]     C:\\Users\\kevin\\AppData\\Roaming\\nltk_data...\n",
      "[nltk_data]   Package averaged_perceptron_tagger is already up-to-\n",
      "[nltk_data]       date!\n",
      "[nltk_data] Downloading package maxent_ne_chunker to\n",
      "[nltk_data]     C:\\Users\\kevin\\AppData\\Roaming\\nltk_data...\n",
      "[nltk_data]   Package maxent_ne_chunker is already up-to-date!\n",
      "[nltk_data] Downloading package words to\n",
      "[nltk_data]     C:\\Users\\kevin\\AppData\\Roaming\\nltk_data...\n",
      "[nltk_data]   Package words is already up-to-date!\n"
     ]
    },
    {
     "data": {
      "text/plain": [
       "True"
      ]
     },
     "execution_count": 2,
     "metadata": {},
     "output_type": "execute_result"
    }
   ],
   "source": [
    "nltk.download('punkt') \n",
    "nltk.download('averaged_perceptron_tagger') \n",
    "nltk.download('maxent_ne_chunker')\n",
    "nltk.download('words')"
   ]
  },
  {
   "cell_type": "code",
   "execution_count": 3,
   "metadata": {},
   "outputs": [],
   "source": [
    "sentence1 = \"Jimmy works at Google in California. He was seen whispering to Marla.\""
   ]
  },
  {
   "cell_type": "code",
   "execution_count": 4,
   "metadata": {},
   "outputs": [],
   "source": [
    "tokens1 = nltk.word_tokenize(sentence1) \n",
    "tags1 = nltk.pos_tag(tokens1) \n",
    "tree1 = nltk.ne_chunk(tags1)"
   ]
  },
  {
   "cell_type": "code",
   "execution_count": 5,
   "metadata": {},
   "outputs": [
    {
     "name": "stdout",
     "output_type": "stream",
     "text": [
      "(S\n",
      "  (PERSON Jimmy/NNP)\n",
      "  works/VBZ\n",
      "  at/IN\n",
      "  (ORGANIZATION Google/NNP)\n",
      "  in/IN\n",
      "  (GPE California/NNP)\n",
      "  ./.\n",
      "  He/PRP\n",
      "  was/VBD\n",
      "  seen/VBN\n",
      "  whispering/VBG\n",
      "  to/TO\n",
      "  (PERSON Marla/NNP)\n",
      "  ./.)\n"
     ]
    }
   ],
   "source": [
    "print(tree1)"
   ]
  },
  {
   "cell_type": "code",
   "execution_count": 6,
   "metadata": {},
   "outputs": [
    {
     "name": "stdout",
     "output_type": "stream",
     "text": [
      "(S\n",
      "  Jimmy/NNP\n",
      "  (VP works/VBZ at/IN Google/NNP)\n",
      "  in/IN\n",
      "  California/NNP\n",
      "  ./.\n",
      "  He/PRP\n",
      "  was/VBD\n",
      "  seen/VBN\n",
      "  (VP whispering/VBG to/TO Marla/NNP)\n",
      "  ./.)\n",
      "Jimmy works at Google\n"
     ]
    }
   ],
   "source": [
    "work_word_list = [\"works\", \"hired\", \"contract\", \"paid\", \"employed\"]\n",
    "output = \"Jimmy\"\n",
    "grammar = \"VP: {<VB.*><TO|IN>?<NN.*>}\"\n",
    "cp = nltk.RegexpParser(grammar) \n",
    "\n",
    "result = cp.parse(tags1) \n",
    "\n",
    "print(result)\n",
    "\n",
    "for tuples in result:\n",
    "    if len(tuples) > 2:\n",
    "        if tuples[0][0] in work_word_list:\n",
    "            for couples in tuples:\n",
    "                output += \" \"\n",
    "                output += couples[0]\n",
    "                \n",
    "print(output)"
   ]
  },
  {
   "cell_type": "code",
   "execution_count": 7,
   "metadata": {},
   "outputs": [],
   "source": [
    "sentence2 = \"Jimmy was seen whispering to Marla.\""
   ]
  },
  {
   "cell_type": "code",
   "execution_count": 8,
   "metadata": {},
   "outputs": [
    {
     "name": "stdout",
     "output_type": "stream",
     "text": [
      "(S\n",
      "  (PERSON Jimmy/NNP)\n",
      "  was/VBD\n",
      "  seen/VBN\n",
      "  whispering/VBG\n",
      "  to/TO\n",
      "  (PERSON Marla/NNP)\n",
      "  ./.)\n"
     ]
    }
   ],
   "source": [
    "tokens2 = nltk.word_tokenize(sentence2) \n",
    "tags2 = nltk.pos_tag(tokens2) \n",
    "tree2 = nltk.ne_chunk(tags2)\n",
    "\n",
    "print(tree2)"
   ]
  },
  {
   "cell_type": "code",
   "execution_count": 9,
   "metadata": {},
   "outputs": [
    {
     "name": "stdout",
     "output_type": "stream",
     "text": [
      "(S\n",
      "  Jimmy/NNP\n",
      "  (VP was/VBD seen/VBN whispering/VBG to/TO Marla/NNP)\n",
      "  ./.)\n",
      "Jimmy knows Marla\n"
     ]
    }
   ],
   "source": [
    "know_word_list = [\"knows\", \"whispering\", \"contact\", \"calls\", \"talks\"]\n",
    "output2 = \"Jimmy\"\n",
    "knows = False\n",
    "grammar2 = \"VP: {<VB.*>+<TO|IN>?<NN.*>}\"\n",
    "cp2 = nltk.RegexpParser(grammar2) \n",
    "\n",
    "result2 = cp2.parse(tags2) \n",
    "\n",
    "print(result2)\n",
    "\n",
    "for tuples in result2:\n",
    "    if len(tuples) > 2:\n",
    "        for i in range(len(tuples)):\n",
    "            if tuples[i][0] in know_word_list:\n",
    "                output2 += \" knows \"\n",
    "            if i == (len(tuples)-1):\n",
    "                output2 += tuples[i][0]\n",
    "                \n",
    "print(output2)"
   ]
  },
  {
   "cell_type": "code",
   "execution_count": null,
   "metadata": {},
   "outputs": [],
   "source": []
  }
 ],
 "metadata": {
  "kernelspec": {
   "display_name": "Python 3",
   "language": "python",
   "name": "python3"
  },
  "language_info": {
   "codemirror_mode": {
    "name": "ipython",
    "version": 3
   },
   "file_extension": ".py",
   "mimetype": "text/x-python",
   "name": "python",
   "nbconvert_exporter": "python",
   "pygments_lexer": "ipython3",
   "version": "3.7.1"
  }
 },
 "nbformat": 4,
 "nbformat_minor": 2
}
