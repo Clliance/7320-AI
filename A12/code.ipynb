{
 "cells": [
  {
   "cell_type": "code",
   "execution_count": 25,
   "metadata": {},
   "outputs": [
    {
     "name": "stdout",
     "output_type": "stream",
     "text": [
      "['Cancers', 'can', 'be', 'easier', 'to', 'cure', 'if', 'they', 'are', 'found', 'in', 'earlier', 'stages', '.']\n",
      "[('Cancers', 'NNS'), ('can', 'MD'), ('be', 'VB'), ('easier', 'JJR'), ('to', 'TO'), ('cure', 'VB'), ('if', 'IN'), ('they', 'PRP'), ('are', 'VBP'), ('found', 'VBN'), ('in', 'IN'), ('earlier', 'JJR'), ('stages', 'NNS'), ('.', '.')]\n",
      "(S\n",
      "  (NP Cancers/NNS)\n",
      "  can/MD\n",
      "  be/VB\n",
      "  (NP easier/JJR)\n",
      "  to/TO\n",
      "  cure/VB\n",
      "  if/IN\n",
      "  (NP they/PRP)\n",
      "  are/VBP\n",
      "  found/VBN\n",
      "  in/IN\n",
      "  (NP earlier/JJR stages/NNS)\n",
      "  ./.)\n",
      "['Jeff', 'shared', 'a', 'video', 'to', 'Facebook', 'named', 'His', 'Mansion', 'House', 'speech', '.']\n",
      "[('Jeff', 'NNP'), ('shared', 'VBD'), ('a', 'DT'), ('video', 'NN'), ('to', 'TO'), ('Facebook', 'NNP'), ('named', 'VBD'), ('His', 'PRP$'), ('Mansion', 'NNP'), ('House', 'NNP'), ('speech', 'NN'), ('.', '.')]\n",
      "(S\n",
      "  (NP Jeff/NNP)\n",
      "  shared/VBD\n",
      "  (NP a/DT video/NN)\n",
      "  to/TO\n",
      "  (NP Facebook/NNP)\n",
      "  named/VBD\n",
      "  (NP His/PRP$ Mansion/NNP House/NNP speech/NN)\n",
      "  ./.)\n",
      "['China', 'is', 'still', 'leading', 'the', 'fastest', 'developing', 'trends', 'in', 'this', 'world', '.']\n",
      "[('China', 'NNP'), ('is', 'VBZ'), ('still', 'RB'), ('leading', 'VBG'), ('the', 'DT'), ('fastest', 'JJS'), ('developing', 'VBG'), ('trends', 'NNS'), ('in', 'IN'), ('this', 'DT'), ('world', 'NN'), ('.', '.')]\n",
      "(S\n",
      "  (NP China/NNP)\n",
      "  is/VBZ\n",
      "  still/RB\n",
      "  (NP leading/VBG)\n",
      "  (NP the/DT fastest/JJS developing/VBG trends/NNS)\n",
      "  in/IN\n",
      "  (NP this/DT world/NN)\n",
      "  ./.)\n"
     ]
    },
    {
     "name": "stderr",
     "output_type": "stream",
     "text": [
      "[nltk_data] Downloading package punkt to\n",
      "[nltk_data]     C:\\Users\\kevin\\AppData\\Roaming\\nltk_data...\n",
      "[nltk_data]   Package punkt is already up-to-date!\n",
      "[nltk_data] Downloading package averaged_perceptron_tagger to\n",
      "[nltk_data]     C:\\Users\\kevin\\AppData\\Roaming\\nltk_data...\n",
      "[nltk_data]   Package averaged_perceptron_tagger is already up-to-\n",
      "[nltk_data]       date!\n"
     ]
    }
   ],
   "source": [
    "import nltk\n",
    "nltk.download('punkt') \n",
    "nltk.download('averaged_perceptron_tagger') \n",
    "\n",
    "sentence1 = \"Cancers can be easier to cure if they are found in earlier stages.\"\n",
    "sentence2 = \"Jeff shared a video to Facebook named His Mansion House speech.\"\n",
    "sentence3 = \"China is still leading the fastest developing trends in this world.\"\n",
    "\n",
    "def np_rule(sentence):\n",
    "    tokens = nltk.word_tokenize(sentence) \n",
    "    print (tokens) \n",
    "\n",
    "    tags = nltk.pos_tag(tokens) \n",
    "    print (tags) \n",
    "\n",
    "    grammar = \"NP: {<DT>?<PRP.*>*<JJ.*>*<VBG>*<NN.*>*}\"\n",
    "    cp = nltk.RegexpParser(grammar) \n",
    "\n",
    "    result = cp.parse(tags) \n",
    "    print (result) \n",
    "\n",
    "np_rule(sentence1)\n",
    "np_rule(sentence2)\n",
    "np_rule(sentence3)"
   ]
  },
  {
   "cell_type": "code",
   "execution_count": null,
   "metadata": {},
   "outputs": [],
   "source": []
  }
 ],
 "metadata": {
  "kernelspec": {
   "display_name": "Python 3",
   "language": "python",
   "name": "python3"
  },
  "language_info": {
   "codemirror_mode": {
    "name": "ipython",
    "version": 3
   },
   "file_extension": ".py",
   "mimetype": "text/x-python",
   "name": "python",
   "nbconvert_exporter": "python",
   "pygments_lexer": "ipython3",
   "version": "3.7.1"
  }
 },
 "nbformat": 4,
 "nbformat_minor": 2
}
